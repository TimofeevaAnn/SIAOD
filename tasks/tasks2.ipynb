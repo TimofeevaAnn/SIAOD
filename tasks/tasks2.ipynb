{
 "cells": [
  {
   "cell_type": "markdown",
   "id": "arctic-stocks",
   "metadata": {},
   "source": [
    "### Задание №1\n",
    "Массив A состоит из целых положительных чисел длин отрезков. Составьте из трех отрезков такой треугольник, чтобы его периметр был максимально возможным. Если невозможно составить треугольник с положительной площадью функция возвращает 0."
   ]
  },
  {
   "cell_type": "code",
   "execution_count": 7,
   "id": "caring-truck",
   "metadata": {
    "scrolled": false
   },
   "outputs": [
    {
     "name": "stdout",
     "output_type": "stream",
     "text": [
      "3\n",
      "[26, 30, 26]\n",
      "([30, 26, 26], 82)\n"
     ]
    }
   ],
   "source": [
    "from random import randint\n",
    "def maxTriangle(array): \n",
    "    array.sort()\n",
    "    p = 0\n",
    "    i=len(array)-1\n",
    "    while i>=2:\n",
    "        a=array[i]\n",
    "        b=array[i-1]\n",
    "        c=array[i-2]\n",
    "        if a < b + c:\n",
    "            p = a + b + c\n",
    "            break\n",
    "        i-=1\n",
    "    return [a,b,c], p\n",
    "n=int(input())\n",
    "array=list()\n",
    "for i in range(n):\n",
    "        array.append(randint(1,30))\n",
    "print(array)\n",
    "print(maxTriangle(array))"
   ]
  },
  {
   "cell_type": "markdown",
   "id": "maritime-conversation",
   "metadata": {},
   "source": [
    "### Задание №2\n",
    "Дан массив неотрицательных целых чисел nums. Расположите их в таком порядке, чтобы вместе они образовали максимально возможное число. Замечание: Результат может быть очень большим числом, поэтому представьте его как string, а не integer."
   ]
  },
  {
   "cell_type": "code",
   "execution_count": 12,
   "id": "alert-charm",
   "metadata": {
    "scrolled": false
   },
   "outputs": [
    {
     "name": "stdout",
     "output_type": "stream",
     "text": [
      "[6, 1, 3, 7, 8, 8, 6, 4, 5, 9]\n",
      "9887665431\n"
     ]
    }
   ],
   "source": [
    "import random\n",
    "\n",
    "def sort_nums(nums):\n",
    "    for i in range(len(nums)):\n",
    "        nums[i] = str(nums[i])\n",
    "        \n",
    "    nums.sort(reverse = True)\n",
    "    newnum = \"\"\n",
    "    \n",
    "    \n",
    "    for i in range(len(nums)):\n",
    "        newnum =newnum+ nums[i]\n",
    "    return newnum\n",
    "\n",
    "nums = []\n",
    "for i in range(10):\n",
    "    nums.append(random.randint(1, 9))\n",
    "\n",
    "print(nums)\n",
    "print(sort_nums(nums))"
   ]
  },
  {
   "cell_type": "markdown",
   "id": "catholic-roots",
   "metadata": {},
   "source": [
    "### Задание №3\n",
    "Дана матрица mat размером m * n, значения целочисленные. Напишите функцию, сортирующую каждую диагональ матрицы по возрастанию и возвращающую получившуюся матрицу."
   ]
  },
  {
   "cell_type": "code",
   "execution_count": 13,
   "id": "cleared-anniversary",
   "metadata": {
    "scrolled": false
   },
   "outputs": [
    {
     "name": "stdout",
     "output_type": "stream",
     "text": [
      "3\n",
      "3\n",
      "1\n",
      "9\n",
      "Оригинальная матрица:\n",
      "2 1 1 \n",
      "4 6 3 \n",
      "4 7 1 \n",
      "Матрица с отсортированной диагональю:\n",
      "1 1 1 \n",
      "4 2 3 \n",
      "4 7 6 \n"
     ]
    }
   ],
   "source": [
    "from random import randint\n",
    "import copy\n",
    "def mgenerate():\n",
    "    m=int(input())\n",
    "    n=int(input())\n",
    "    min_limit=int(input())\n",
    "    max_limit=int(input())\n",
    "    mat=[]\n",
    "    for i in range (m):\n",
    "        array=list()\n",
    "        for j in range (n):\n",
    "            array.append (randint(min_limit,max_limit))\n",
    "        mat.append(array)\n",
    "    return mat\n",
    "def mprint(mat):\n",
    "    for i in range(len(mat)):\n",
    "        for j in range(len(mat[i])):\n",
    "            print(mat[i][j], end=' ')\n",
    "        print()\n",
    "def sort_diagonal(mat):\n",
    "    diagonal=[]\n",
    "    for i in range(len(mat)):\n",
    "        for j in range(len(mat[i])):\n",
    "            if i==j:\n",
    "                diagonal.append(mat[i][j])\n",
    "    diagonal.sort()\n",
    "    i=0\n",
    "    j=0\n",
    "    for k in range(len(diagonal)):\n",
    "        mat[i][j]=diagonal[k]\n",
    "        i+=1\n",
    "        j+=1\n",
    "    return mat\n",
    "mat=mgenerate()\n",
    "mat1=copy.deepcopy(mat)\n",
    "mat1=sort_diagonal(mat1)\n",
    "print(\"Оригинальная матрица:\")\n",
    "mprint(mat)\n",
    "print(\"Матрица с отсортированной диагональю:\")\n",
    "mprint(mat1)"
   ]
  }
 ],
 "metadata": {
  "kernelspec": {
   "display_name": "Python 3 (ipykernel)",
   "language": "python",
   "name": "python3"
  },
  "language_info": {
   "codemirror_mode": {
    "name": "ipython",
    "version": 3
   },
   "file_extension": ".py",
   "mimetype": "text/x-python",
   "name": "python",
   "nbconvert_exporter": "python",
   "pygments_lexer": "ipython3",
   "version": "3.10.2"
  }
 },
 "nbformat": 4,
 "nbformat_minor": 5
}
