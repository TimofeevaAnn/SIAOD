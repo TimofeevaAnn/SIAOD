{
 "cells": [
  {
   "cell_type": "markdown",
   "id": "fifteen-sailing",
   "metadata": {},
   "source": [
    "# Лабораторная работа №1\n",
    "## Выполнил студент группы БВТ2005 Тимофеева Анна Ивановна "
   ]
  },
  {
   "cell_type": "code",
   "execution_count": null,
   "id": "5558ffea",
   "metadata": {},
   "outputs": [],
   "source": []
  },
  {
   "cell_type": "markdown",
   "id": "particular-syndicate",
   "metadata": {},
   "source": [
    "### Оглавление\n",
    "1. [Задание 1](#Задание-№1)\n",
    "2. [Задание 2](#Задание-№2)\n",
    "3. [Задание 3](#Задание-№3)\n",
    "4. [Вывод](#Вывод)"
   ]
  },
  {
   "cell_type": "markdown",
   "id": "arctic-stocks",
   "metadata": {},
   "source": [
    "### Задание №1\n",
    "<i> Вызвать функцию print() и передать туда строку Hello, World! </i>"
   ]
  },
  {
   "cell_type": "code",
   "execution_count": 7,
   "id": "caring-truck",
   "metadata": {
    "scrolled": false
   },
   "outputs": [
    {
     "name": "stdout",
     "output_type": "stream",
     "text": [
      "Hello, World!\n"
     ]
    }
   ],
   "source": [
    "print(\"Hello, World!\")"
   ]
  },
  {
   "cell_type": "markdown",
   "id": "maritime-conversation",
   "metadata": {},
   "source": [
    "### Задание №2\n",
    "Написать генератор случайных матриц(многомерных), который принимает\n",
    "опциональные параметры <b>m</b>, <b>n</b>, <b>min_limit</b>, <b>max_limit</b>, где <b>m</b> и <b>n</b> указывают размер\n",
    "матрицы, а <b>min_lim</b> и <b>max_lim</b> - минимальное и максимальное значение для\n",
    "генерируемого числа."
   ]
  },
  {
   "cell_type": "code",
   "execution_count": 37,
   "id": "built-contact",
   "metadata": {},
   "outputs": [],
   "source": [
    "import random\n",
    "import time"
   ]
  },
  {
   "cell_type": "code",
   "execution_count": 38,
   "id": "alert-charm",
   "metadata": {
    "scrolled": true
   },
   "outputs": [
    {
     "name": "stdout",
     "output_type": "stream",
     "text": [
      "4\n",
      "5\n",
      "1\n",
      "20\n",
      "[13, 14, 12, 14, 5]\n",
      "[13, 15, 5, 20, 11]\n",
      "[7, 5, 15, 13, 12]\n",
      "[5, 8, 14, 14, 18]\n"
     ]
    }
   ],
   "source": [
    "import random\n",
    "user_m = int(input())\n",
    "user_n = int(input())\n",
    "user_min_limit = int(input())\n",
    "user_max_limit = int(input())\n",
    "matrix = [ [ random.randint(user_min_limit, user_max_limit) for j in range(user_n)] for i in range(user_m) ]\n",
    "for i in range(user_m):\n",
    "    print(matrix[i])"
   ]
  },
  {
   "cell_type": "markdown",
   "id": "catholic-roots",
   "metadata": {},
   "source": [
    "### Задание №3\n",
    "Реализовать методы сортировки строк числовой матрицы в соответствии с\n",
    "заданием. Оценить время работы каждого алгоритма сортировки и сравнить его со\n",
    "временем стандартной функции сортировки. Испытания проводить на сгенерированных\n",
    "матрицах."
   ]
  },
  {
   "cell_type": "code",
   "execution_count": 10,
   "id": "opposed-creature",
   "metadata": {},
   "outputs": [],
   "source": [
    "import copy"
   ]
  },
  {
   "cell_type": "code",
   "execution_count": 39,
   "id": "cleared-anniversary",
   "metadata": {},
   "outputs": [
    {
     "name": "stdout",
     "output_type": "stream",
     "text": [
      "[5, 13, 13, 14, 14]\n",
      "[5, 11, 15, 15, 20]\n",
      "[5, 7, 12, 15, 15]\n",
      "[5, 8, 14, 14, 18]\n",
      "--- 1 ms ---\n"
     ]
    }
   ],
   "source": [
    "# Сортировка выбором.\n",
    "# Берётся срез массива, в котором минимальный элемент переносят в самый левый угол,\n",
    "# после чего срез уменьшается и цикл повторяется.\n",
    "import time\n",
    "start_time = time.time()\n",
    "def select(arr):\n",
    "    for i in range (len(arr)):\n",
    "        a=arr[i]\n",
    "        for j in range (i+1,len(arr)):\n",
    "            if arr[j]<arr[i]:\n",
    "                arr[i]=arr[j]\n",
    "                arr[j]=a\n",
    "for arr in matrix:\n",
    "    arr=select(arr)\n",
    "for i in range(user_m):\n",
    "    print(matrix[i])\n",
    "print(\"--- {0} ms ---\".format(round((time.time() - start_time)*1000)))"
   ]
  },
  {
   "cell_type": "code",
   "execution_count": 40,
   "id": "roman-silly",
   "metadata": {
    "scrolled": true
   },
   "outputs": [
    {
     "name": "stdout",
     "output_type": "stream",
     "text": [
      "[5, 13, 13, 14, 14]\n",
      "[5, 11, 15, 15, 20]\n",
      "[5, 7, 12, 15, 15]\n",
      "[5, 8, 14, 14, 18]\n",
      "--- 0 ms ---\n"
     ]
    }
   ],
   "source": [
    "# Сортировка вставкой.\n",
    "start_time = time.time()\n",
    "def paste(arr):\n",
    "    for i in range(len(arr)):\n",
    "        a = arr[i]\n",
    "        position = i\n",
    "        \n",
    "        while position > 0 and arr[position - 1] > a:\n",
    "            arr[position] = arr[position - 1]\n",
    "            position = position - 1\n",
    "        arr[position] = a\n",
    "    return arr\n",
    "for arr in matrix:\n",
    "    arr=paste(arr)\n",
    "for i in range(user_m):\n",
    "    print(matrix[i])\n",
    "print(\"--- {0} ms ---\".format(round((time.time() - start_time)*1000)))"
   ]
  },
  {
   "cell_type": "code",
   "execution_count": 41,
   "id": "vital-implementation",
   "metadata": {},
   "outputs": [
    {
     "name": "stdout",
     "output_type": "stream",
     "text": [
      "[5, 13, 13, 14, 14]\n",
      "[5, 11, 15, 15, 20]\n",
      "[5, 7, 12, 15, 15]\n",
      "[5, 8, 14, 14, 18]\n",
      "--- 0 ms ---\n"
     ]
    }
   ],
   "source": [
    "# Сортировка обменом. || Сортировка пузырьком.\n",
    "start_time = time.time()\n",
    "def trade(arr):\n",
    "    for i in range(0,len(arr)-1):\n",
    "        a = arr[i]\n",
    "        if arr[i]>arr[i+1]:\n",
    "            arr[i] = arr[i+1]\n",
    "            arr[i+1] = a\n",
    "    return arr\n",
    "for arr in matrix:\n",
    "    arr=trade(arr)\n",
    "for i in range(user_m):\n",
    "    print(matrix[i])\n",
    "print(\"--- {0} ms ---\".format(round((time.time() - start_time)*1000)))"
   ]
  },
  {
   "cell_type": "code",
   "execution_count": 42,
   "id": "veterinary-glory",
   "metadata": {},
   "outputs": [
    {
     "name": "stdout",
     "output_type": "stream",
     "text": [
      "[5, 13, 13, 14, 14]\n",
      "[5, 11, 15, 15, 20]\n",
      "[5, 7, 12, 15, 15]\n",
      "[5, 8, 14, 14, 18]\n",
      "--- 0 ms ---\n"
     ]
    }
   ],
   "source": [
    "# Сортировка Шелла.\n",
    "start_time = time.time()\n",
    "def shell(arr):\n",
    "    hf=len(arr) // 2\n",
    "    while hf > 0:\n",
    "        for i in range(hf, len(arr)):\n",
    "            t = arr[i]\n",
    "            j = i\n",
    "            while j >= hf and arr[j - hf] > t:\n",
    "                arr[j] = arr[j -  arr]\n",
    "                j -=  hf\n",
    "            arr[j] = t\n",
    "        hf = hf // 2\n",
    "for arr in matrix:\n",
    "    arr=shell(arr)\n",
    "for i in range(user_m):\n",
    "    print(matrix[i])\n",
    "print(\"--- {0} ms ---\".format(round((time.time() - start_time)*1000)))"
   ]
  },
  {
   "cell_type": "code",
   "execution_count": 43,
   "id": "correct-chaos",
   "metadata": {},
   "outputs": [
    {
     "name": "stdout",
     "output_type": "stream",
     "text": [
      "[5, 13, 13, 14, 14]\n",
      "[5, 11, 15, 15, 20]\n",
      "[5, 7, 12, 15, 15]\n",
      "[5, 8, 14, 14, 18]\n",
      "--- 1 ms ---\n"
     ]
    }
   ],
   "source": [
    "# Быстрая сортировка.\n",
    "start_time = time.time()\n",
    "def partition(arr, start, end):\n",
    "    pivot = arr[start]\n",
    "    left = start + 1\n",
    "    right = end\n",
    "    while True:\n",
    "        while arr[right] > pivot and right > start:\n",
    "            right -= 1\n",
    "        while arr[left] <= pivot and left < end:\n",
    "            left += 1\n",
    "        if left >= right:\n",
    "            break\n",
    "        temp = arr[left]\n",
    "        arr[left] = arr[right]\n",
    "        arr[right] = temp\n",
    "    arr[start] = arr[right]\n",
    "    arr[right] = pivot\n",
    "    return right\n",
    "def __quick_sort(arr, start, end):\n",
    "    if end > start:\n",
    "        pivot_index = partition(arr, start, end)\n",
    "        __quick_sort(arr, start, pivot_index - 1)\n",
    "        __quick_sort(arr, pivot_index + 1, end)\n",
    "def quick_sort(arr):\n",
    "    __quick_sort(arr, 0, len(arr) - 1)  \n",
    "for arr in matrix:\n",
    "    arr=quick_sort(arr)\n",
    "for i in range(user_m):\n",
    "    print(matrix[i])\n",
    "print(\"--- {0} ms ---\".format(round((time.time() - start_time)*1000)))\n",
    "    "
   ]
  },
  {
   "cell_type": "code",
   "execution_count": 44,
   "id": "french-czech",
   "metadata": {},
   "outputs": [
    {
     "name": "stdout",
     "output_type": "stream",
     "text": [
      "[5, 13, 13, 14, 14]\n",
      "[5, 11, 15, 15, 20]\n",
      "[5, 7, 12, 15, 15]\n",
      "[5, 8, 14, 14, 18]\n",
      "--- 1 ms ---\n"
     ]
    }
   ],
   "source": [
    "# Турнирная сортировка.\n",
    "start_time = time.time()\n",
    "import heapq\n",
    "def sort_tournament(line, places):\n",
    "    heap = []\n",
    "    if len(line) >= places:\n",
    "        heap = line[:places]\n",
    "    else:\n",
    "        heap = line[:]\n",
    "    heapq.heapify(heap)\n",
    "    winners = [float('-inf')]\n",
    "    losers = []\n",
    "    i = places\n",
    "    while i < len(line) or len(heap) > 0:\n",
    "        heap_top = heapq.heappop(heap)\n",
    "        if heap_top >= winners[-1]:\n",
    "            winners.append(heap_top)\n",
    "        else:\n",
    "            losers.append(heap_top)\n",
    "        if i < len(line):                       \n",
    "            heapq.heappush(heap, line[i])       \n",
    "        i += 1\n",
    "    del winners[0]\n",
    "    line.clear()\n",
    "    line.extend(losers)\n",
    "    line.extend(winners)\n",
    "    if len(losers) > 0:\n",
    "        sort_tournament(line, places)\n",
    "for i in range(len(matrix)):\n",
    "    sort_tournament(matrix[i], 4)\n",
    "for i in range(user_m):\n",
    "    print(matrix[i])\n",
    "print(\"--- {0} ms ---\".format(round((time.time() - start_time)*1000)))"
   ]
  },
  {
   "cell_type": "markdown",
   "id": "rental-jerusalem",
   "metadata": {},
   "source": [
    "### Вывод\n"
   ]
  },
  {
   "cell_type": "code",
   "execution_count": null,
   "id": "19e7f6a9",
   "metadata": {},
   "outputs": [],
   "source": []
  }
 ],
 "metadata": {
  "kernelspec": {
   "display_name": "Python 3 (ipykernel)",
   "language": "python",
   "name": "python3"
  },
  "language_info": {
   "codemirror_mode": {
    "name": "ipython",
    "version": 3
   },
   "file_extension": ".py",
   "mimetype": "text/x-python",
   "name": "python",
   "nbconvert_exporter": "python",
   "pygments_lexer": "ipython3",
   "version": "3.10.2"
  }
 },
 "nbformat": 4,
 "nbformat_minor": 5
}
